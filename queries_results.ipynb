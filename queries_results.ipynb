{
 "cells": [
  {
   "cell_type": "markdown",
   "id": "9fd2326a",
   "metadata": {},
   "source": [
    "## Preparation"
   ]
  },
  {
   "cell_type": "code",
   "execution_count": 2,
   "id": "8b165c99",
   "metadata": {
    "scrolled": true
   },
   "outputs": [
    {
     "name": "stdout",
     "output_type": "stream",
     "text": [
      "Collecting cx_Oracle\n",
      "  Downloading cx_Oracle-8.3.0-cp310-cp310-win_amd64.whl (213 kB)\n",
      "     -------------------------------------- 213.1/213.1 kB 2.2 MB/s eta 0:00:00\n",
      "Installing collected packages: cx_Oracle\n",
      "Successfully installed cx_Oracle-8.3.0\n"
     ]
    }
   ],
   "source": [
    "!pip install cx_Oracle"
   ]
  },
  {
   "cell_type": "code",
   "execution_count": 19,
   "id": "4798f365",
   "metadata": {
    "scrolled": true
   },
   "outputs": [],
   "source": [
    "# importing the necessary libraries\n",
    "\n",
    "import cx_Oracle\n",
    "import pandas as pd\n",
    "import re"
   ]
  },
  {
   "cell_type": "code",
   "execution_count": 21,
   "id": "2e57a96a",
   "metadata": {},
   "outputs": [
    {
     "name": "stdout",
     "output_type": "stream",
     "text": [
      "21.3.0.0.0\n"
     ]
    }
   ],
   "source": [
    "# setting up a connection to database\n",
    "\n",
    "dsn = \"localhost/xepdb1\"\n",
    "username = \"marta\"    #local user\n",
    "password = \"marta\"\n",
    "\n",
    "conn = cx_Oracle.connect(username, password, dsn)\n",
    "print(conn.version)"
   ]
  },
  {
   "cell_type": "code",
   "execution_count": 22,
   "id": "f5266440",
   "metadata": {},
   "outputs": [],
   "source": [
    "# creating a cursor\n",
    "\n",
    "cursor = conn.cursor()"
   ]
  },
  {
   "cell_type": "code",
   "execution_count": 70,
   "id": "d485a9d9",
   "metadata": {},
   "outputs": [
    {
     "name": "stdout",
     "output_type": "stream",
     "text": [
      "[['CUSTOMERS']\n",
      " ['VISITS']\n",
      " ['WASHES']\n",
      " ['MACHINES']\n",
      " ['FABRICS']\n",
      " ['PROGRAMS']\n",
      " ['SERVICES']\n",
      " ['COMPLAINTS']]\n"
     ]
    }
   ],
   "source": [
    "# checking which tables the local user has access to\n",
    "\n",
    "query = \"SELECT * FROM user_tables\"  # no semicolon\n",
    "cursor.execute(query)\n",
    "results = cursor.fetchall()\n",
    "\n",
    "print(pd.DataFrame(results).iloc[:, :1].values)"
   ]
  },
  {
   "cell_type": "markdown",
   "id": "b09dddcf",
   "metadata": {},
   "source": [
    "## Automation of reading queries from a file"
   ]
  },
  {
   "cell_type": "code",
   "execution_count": 350,
   "id": "04680a50",
   "metadata": {},
   "outputs": [],
   "source": [
    "# opening SQL file\n",
    "\n",
    "file = open('queries.sql', 'r')\n",
    "queries = file.read()\n",
    "file.close()"
   ]
  },
  {
   "cell_type": "code",
   "execution_count": 351,
   "id": "bd56ba68",
   "metadata": {},
   "outputs": [],
   "source": [
    "# splitting the file into list of individual tasks\n",
    "\n",
    "queries = re.split(\";\\n\\n--\\d\\. \", queries)"
   ]
  },
  {
   "cell_type": "code",
   "execution_count": 352,
   "id": "4c743204",
   "metadata": {},
   "outputs": [],
   "source": [
    "# splitting according to the element type (task description/individual queries) \n",
    "\n",
    "queries_split = []\n",
    "for q in queries:\n",
    "    queries_split.append(q.split('\\n\\n'))"
   ]
  },
  {
   "cell_type": "code",
   "execution_count": 353,
   "id": "d67dfd0d",
   "metadata": {},
   "outputs": [
    {
     "data": {
      "text/plain": [
       "2"
      ]
     },
     "execution_count": 353,
     "metadata": {},
     "output_type": "execute_result"
    }
   ],
   "source": [
    "len(queries_split[8])"
   ]
  },
  {
   "cell_type": "code",
   "execution_count": 370,
   "id": "b797bb4a",
   "metadata": {},
   "outputs": [
    {
     "data": {
      "text/plain": [
       "['sjiji', 'hfhsif', 'dhdsf', 'dkajdk']"
      ]
     },
     "execution_count": 370,
     "metadata": {},
     "output_type": "execute_result"
    }
   ],
   "source": [
    "a = \"sjiji\"\n",
    "b = [\"hfhsif\", \"dhdsf\", \"dkajdk\"]\n",
    "\n",
    "q = []\n",
    "q.append([a]+b)\n",
    "q=[a]+b\n",
    "q"
   ]
  },
  {
   "cell_type": "code",
   "execution_count": 432,
   "id": "1cb6183d",
   "metadata": {},
   "outputs": [],
   "source": [
    "queries2 = []\n",
    "\n",
    "for q in queries_split:\n",
    "    task = re.sub(\"^.*\\d\\. \", \"\", q[0])  # task description taking into consideration previous side effect of split\n",
    "    \n",
    "    # solution queries (partial and individual)\n",
    "    elements = []\n",
    "    for element in q[1:]:\n",
    "        element = re.sub(\"--.*\\n\", \"\\n\", element)     # removing all comments from partial and individual queries\n",
    "        element = re.sub(\"\\n\", \" \", element)          # removing new line characters\n",
    "        element = re.sub(\"\\s+\", \" \", element)         # removing multiple spaces\n",
    "        element = re.sub(\";$\", \"\", element)           # removing the semicolon at the end\n",
    "        element = re.sub(\"^\\s\", \"\", element)          # removing white spaces in the beginning\n",
    "        elements.append(element)\n",
    "        \n",
    "#     print('\\n\\n')\n",
    "    queries2.append([task] + elements)"
   ]
  },
  {
   "cell_type": "code",
   "execution_count": 436,
   "id": "8c231398",
   "metadata": {},
   "outputs": [
    {
     "name": "stdout",
     "output_type": "stream",
     "text": [
      "Inicial task description:\n",
      " 'Display the category of complaints that received the most complaints in 2021, along with the number of those complaints.' \n",
      "\n",
      "Final task description:\n",
      " 'Display the category of complaints that received the most complaints in 2021, along with the number of those complaints.' \n",
      "\n",
      "------------------------------\n",
      "\n",
      "Inicial query:\n",
      " \"CREATE OR REPLACE VIEW catcomplaintno AS                        --view with aggregated data\\n    SELECT\\n        complaint_category,\\n        COUNT(complaint_id) complaints_no\\n    FROM\\n        complaints\\n    WHERE\\n        TO_CHAR(submission_date, 'yyyy') = '2021'\\n    GROUP BY\\n        complaint_category;\" \n",
      "\n",
      "Final query:\n",
      " \"CREATE OR REPLACE VIEW catcomplaintno AS SELECT complaint_category, COUNT(complaint_id) complaints_no FROM complaints WHERE TO_CHAR(submission_date, 'yyyy') = '2021' GROUP BY complaint_category\" \n",
      "\n",
      "------------------------------\n",
      "\n",
      "Inicial query:\n",
      " 'SELECT\\n    *\\nFROM\\n    catcomplaintno;' \n",
      "\n",
      "Final query:\n",
      " 'SELECT * FROM catcomplaintno' \n",
      "\n",
      "------------------------------\n",
      "\n",
      "Inicial query:\n",
      " 'SELECT\\n    complaint_category,\\n    complaints_no\\nFROM\\n    catcomplaintno\\nWHERE\\n    complaints_no = (\\n        SELECT\\n            MAX(complaints_no)\\n        FROM\\n            catcomplaintno\\n    )' \n",
      "\n",
      "Final query:\n",
      " 'SELECT complaint_category, complaints_no FROM catcomplaintno WHERE complaints_no = ( SELECT MAX(complaints_no) FROM catcomplaintno )' \n",
      "\n",
      "------------------------------\n"
     ]
    }
   ],
   "source": [
    "# steps taken shown in sample record\n",
    "\n",
    "for q in queries_split[2:3]:\n",
    "    print(\"Inicial task description:\\n\", repr(q[0]), \"\\n\")\n",
    "    task = re.sub(\"^.*\\d\\. \", \"\", q[0])  # task description taking into consideration previous side effect of split\n",
    "    print(\"Final task description:\\n\", repr(task), \"\\n\")\n",
    "    print(\"-\"*30)\n",
    "    \n",
    "    # solution queries (partial and individual)\n",
    "    for element in q[1:]:\n",
    "        print(\"\\nInicial query:\\n\", repr(element), \"\\n\")\n",
    "        element = re.sub(\"--.*\\n\", \"\\n\", element)     # removing all comments from partial and individual queries\n",
    "        element = re.sub(\"\\n\", \" \", element)          # removing new line characters\n",
    "        element = re.sub(\"\\s+\", \" \", element)         # removing multiple spaces\n",
    "        element = re.sub(\";$\", \"\", element)           # removing the semicolon at the end\n",
    "        element = re.sub(\"^\\s\", \"\", element)          # removing white spaces in the beginning\n",
    "        print(\"Final query:\\n\", repr(element), \"\\n\")\n",
    "        print(\"-\"*30)"
   ]
  },
  {
   "cell_type": "markdown",
   "id": "e478b310",
   "metadata": {},
   "source": [
    "## Querying the database"
   ]
  },
  {
   "cell_type": "markdown",
   "id": "9f679544",
   "metadata": {},
   "source": [
    "**Note:** some tasks have more than one solution. For this reason, messages have been added indicating where the query was called and when the view was created."
   ]
  },
  {
   "cell_type": "code",
   "execution_count": 414,
   "id": "62b2ebe1",
   "metadata": {},
   "outputs": [
    {
     "name": "stdout",
     "output_type": "stream",
     "text": [
      "\n",
      " 1 . Display a list of individual visits on which at least one free drying service was performed. \n",
      "\n",
      "Query executed.\n"
     ]
    },
    {
     "data": {
      "text/html": [
       "<style type=\"text/css\">\n",
       "</style>\n",
       "<table id=\"T_f2a48\">\n",
       "  <thead>\n",
       "    <tr>\n",
       "      <th id=\"T_f2a48_level0_col0\" class=\"col_heading level0 col0\" >Visit ID</th>\n",
       "      <th id=\"T_f2a48_level0_col1\" class=\"col_heading level0 col1\" >Number of drying services</th>\n",
       "    </tr>\n",
       "  </thead>\n",
       "  <tbody>\n",
       "    <tr>\n",
       "      <td id=\"T_f2a48_row0_col0\" class=\"data row0 col0\" >7</td>\n",
       "      <td id=\"T_f2a48_row0_col1\" class=\"data row0 col1\" >2</td>\n",
       "    </tr>\n",
       "    <tr>\n",
       "      <td id=\"T_f2a48_row1_col0\" class=\"data row1 col0\" >3</td>\n",
       "      <td id=\"T_f2a48_row1_col1\" class=\"data row1 col1\" >2</td>\n",
       "    </tr>\n",
       "    <tr>\n",
       "      <td id=\"T_f2a48_row2_col0\" class=\"data row2 col0\" >9</td>\n",
       "      <td id=\"T_f2a48_row2_col1\" class=\"data row2 col1\" >2</td>\n",
       "    </tr>\n",
       "    <tr>\n",
       "      <td id=\"T_f2a48_row3_col0\" class=\"data row3 col0\" >1</td>\n",
       "      <td id=\"T_f2a48_row3_col1\" class=\"data row3 col1\" >2</td>\n",
       "    </tr>\n",
       "    <tr>\n",
       "      <td id=\"T_f2a48_row4_col0\" class=\"data row4 col0\" >5</td>\n",
       "      <td id=\"T_f2a48_row4_col1\" class=\"data row4 col1\" >1</td>\n",
       "    </tr>\n",
       "    <tr>\n",
       "      <td id=\"T_f2a48_row5_col0\" class=\"data row5 col0\" >4</td>\n",
       "      <td id=\"T_f2a48_row5_col1\" class=\"data row5 col1\" >1</td>\n",
       "    </tr>\n",
       "  </tbody>\n",
       "</table>\n"
      ],
      "text/plain": [
       "<pandas.io.formats.style.Styler at 0x21987522380>"
      ]
     },
     "metadata": {},
     "output_type": "display_data"
    },
    {
     "name": "stdout",
     "output_type": "stream",
     "text": [
      "\n",
      "\n",
      "\n",
      " 2 . Display the name of the highest temperature program for individual washing machines. \n",
      "\n",
      "Query executed.\n"
     ]
    },
    {
     "data": {
      "text/html": [
       "<style type=\"text/css\">\n",
       "</style>\n",
       "<table id=\"T_5dfdf\">\n",
       "  <thead>\n",
       "    <tr>\n",
       "      <th id=\"T_5dfdf_level0_col0\" class=\"col_heading level0 col0\" >MACHINE_NO</th>\n",
       "      <th id=\"T_5dfdf_level0_col1\" class=\"col_heading level0 col1\" >PROGRAM_NO</th>\n",
       "      <th id=\"T_5dfdf_level0_col2\" class=\"col_heading level0 col2\" >TEMPERATURE</th>\n",
       "    </tr>\n",
       "  </thead>\n",
       "  <tbody>\n",
       "    <tr>\n",
       "      <td id=\"T_5dfdf_row0_col0\" class=\"data row0 col0\" >1</td>\n",
       "      <td id=\"T_5dfdf_row0_col1\" class=\"data row0 col1\" >1</td>\n",
       "      <td id=\"T_5dfdf_row0_col2\" class=\"data row0 col2\" >60</td>\n",
       "    </tr>\n",
       "    <tr>\n",
       "      <td id=\"T_5dfdf_row1_col0\" class=\"data row1 col0\" >1</td>\n",
       "      <td id=\"T_5dfdf_row1_col1\" class=\"data row1 col1\" >4</td>\n",
       "      <td id=\"T_5dfdf_row1_col2\" class=\"data row1 col2\" >60</td>\n",
       "    </tr>\n",
       "    <tr>\n",
       "      <td id=\"T_5dfdf_row2_col0\" class=\"data row2 col0\" >2</td>\n",
       "      <td id=\"T_5dfdf_row2_col1\" class=\"data row2 col1\" >6</td>\n",
       "      <td id=\"T_5dfdf_row2_col2\" class=\"data row2 col2\" >90</td>\n",
       "    </tr>\n",
       "    <tr>\n",
       "      <td id=\"T_5dfdf_row3_col0\" class=\"data row3 col0\" >2</td>\n",
       "      <td id=\"T_5dfdf_row3_col1\" class=\"data row3 col1\" >7</td>\n",
       "      <td id=\"T_5dfdf_row3_col2\" class=\"data row3 col2\" >90</td>\n",
       "    </tr>\n",
       "    <tr>\n",
       "      <td id=\"T_5dfdf_row4_col0\" class=\"data row4 col0\" >3</td>\n",
       "      <td id=\"T_5dfdf_row4_col1\" class=\"data row4 col1\" >12</td>\n",
       "      <td id=\"T_5dfdf_row4_col2\" class=\"data row4 col2\" >60</td>\n",
       "    </tr>\n",
       "    <tr>\n",
       "      <td id=\"T_5dfdf_row5_col0\" class=\"data row5 col0\" >3</td>\n",
       "      <td id=\"T_5dfdf_row5_col1\" class=\"data row5 col1\" >13</td>\n",
       "      <td id=\"T_5dfdf_row5_col2\" class=\"data row5 col2\" >60</td>\n",
       "    </tr>\n",
       "    <tr>\n",
       "      <td id=\"T_5dfdf_row6_col0\" class=\"data row6 col0\" >4</td>\n",
       "      <td id=\"T_5dfdf_row6_col1\" class=\"data row6 col1\" >17</td>\n",
       "      <td id=\"T_5dfdf_row6_col2\" class=\"data row6 col2\" >50</td>\n",
       "    </tr>\n",
       "    <tr>\n",
       "      <td id=\"T_5dfdf_row7_col0\" class=\"data row7 col0\" >4</td>\n",
       "      <td id=\"T_5dfdf_row7_col1\" class=\"data row7 col1\" >18</td>\n",
       "      <td id=\"T_5dfdf_row7_col2\" class=\"data row7 col2\" >50</td>\n",
       "    </tr>\n",
       "    <tr>\n",
       "      <td id=\"T_5dfdf_row8_col0\" class=\"data row8 col0\" >4</td>\n",
       "      <td id=\"T_5dfdf_row8_col1\" class=\"data row8 col1\" >19</td>\n",
       "      <td id=\"T_5dfdf_row8_col2\" class=\"data row8 col2\" >50</td>\n",
       "    </tr>\n",
       "    <tr>\n",
       "      <td id=\"T_5dfdf_row9_col0\" class=\"data row9 col0\" >5</td>\n",
       "      <td id=\"T_5dfdf_row9_col1\" class=\"data row9 col1\" >6</td>\n",
       "      <td id=\"T_5dfdf_row9_col2\" class=\"data row9 col2\" >90</td>\n",
       "    </tr>\n",
       "    <tr>\n",
       "      <td id=\"T_5dfdf_row10_col0\" class=\"data row10 col0\" >6</td>\n",
       "      <td id=\"T_5dfdf_row10_col1\" class=\"data row10 col1\" >12</td>\n",
       "      <td id=\"T_5dfdf_row10_col2\" class=\"data row10 col2\" >60</td>\n",
       "    </tr>\n",
       "    <tr>\n",
       "      <td id=\"T_5dfdf_row11_col0\" class=\"data row11 col0\" >6</td>\n",
       "      <td id=\"T_5dfdf_row11_col1\" class=\"data row11 col1\" >13</td>\n",
       "      <td id=\"T_5dfdf_row11_col2\" class=\"data row11 col2\" >60</td>\n",
       "    </tr>\n",
       "  </tbody>\n",
       "</table>\n"
      ],
      "text/plain": [
       "<pandas.io.formats.style.Styler at 0x21986a3a9e0>"
      ]
     },
     "metadata": {},
     "output_type": "display_data"
    },
    {
     "name": "stdout",
     "output_type": "stream",
     "text": [
      "\n",
      "\n",
      "\n",
      " 3 . Display the category of complaints that received the most complaints in 2021, along with the number of those complaints. \n",
      "\n",
      "A view created.\n",
      "Query executed.\n"
     ]
    },
    {
     "data": {
      "text/html": [
       "<style type=\"text/css\">\n",
       "</style>\n",
       "<table id=\"T_1dc3b\">\n",
       "  <thead>\n",
       "    <tr>\n",
       "      <th id=\"T_1dc3b_level0_col0\" class=\"col_heading level0 col0\" >COMPLAINT_CATEGORY</th>\n",
       "      <th id=\"T_1dc3b_level0_col1\" class=\"col_heading level0 col1\" >COMPLAINTS_NO</th>\n",
       "    </tr>\n",
       "  </thead>\n",
       "  <tbody>\n",
       "    <tr>\n",
       "      <td id=\"T_1dc3b_row0_col0\" class=\"data row0 col0\" >price</td>\n",
       "      <td id=\"T_1dc3b_row0_col1\" class=\"data row0 col1\" >2</td>\n",
       "    </tr>\n",
       "    <tr>\n",
       "      <td id=\"T_1dc3b_row1_col0\" class=\"data row1 col0\" >additions</td>\n",
       "      <td id=\"T_1dc3b_row1_col1\" class=\"data row1 col1\" >2</td>\n",
       "    </tr>\n",
       "    <tr>\n",
       "      <td id=\"T_1dc3b_row2_col0\" class=\"data row2 col0\" >failure</td>\n",
       "      <td id=\"T_1dc3b_row2_col1\" class=\"data row2 col1\" >1</td>\n",
       "    </tr>\n",
       "    <tr>\n",
       "      <td id=\"T_1dc3b_row3_col0\" class=\"data row3 col0\" >equipment</td>\n",
       "      <td id=\"T_1dc3b_row3_col1\" class=\"data row3 col1\" >1</td>\n",
       "    </tr>\n",
       "    <tr>\n",
       "      <td id=\"T_1dc3b_row4_col0\" class=\"data row4 col0\" >service</td>\n",
       "      <td id=\"T_1dc3b_row4_col1\" class=\"data row4 col1\" >1</td>\n",
       "    </tr>\n",
       "  </tbody>\n",
       "</table>\n"
      ],
      "text/plain": [
       "<pandas.io.formats.style.Styler at 0x21987522380>"
      ]
     },
     "metadata": {},
     "output_type": "display_data"
    },
    {
     "name": "stdout",
     "output_type": "stream",
     "text": [
      "Query executed.\n"
     ]
    },
    {
     "data": {
      "text/html": [
       "<style type=\"text/css\">\n",
       "</style>\n",
       "<table id=\"T_8b477\">\n",
       "  <thead>\n",
       "    <tr>\n",
       "      <th id=\"T_8b477_level0_col0\" class=\"col_heading level0 col0\" >COMPLAINT_CATEGORY</th>\n",
       "      <th id=\"T_8b477_level0_col1\" class=\"col_heading level0 col1\" >COMPLAINTS_NO</th>\n",
       "    </tr>\n",
       "  </thead>\n",
       "  <tbody>\n",
       "    <tr>\n",
       "      <td id=\"T_8b477_row0_col0\" class=\"data row0 col0\" >price</td>\n",
       "      <td id=\"T_8b477_row0_col1\" class=\"data row0 col1\" >2</td>\n",
       "    </tr>\n",
       "    <tr>\n",
       "      <td id=\"T_8b477_row1_col0\" class=\"data row1 col0\" >additions</td>\n",
       "      <td id=\"T_8b477_row1_col1\" class=\"data row1 col1\" >2</td>\n",
       "    </tr>\n",
       "  </tbody>\n",
       "</table>\n"
      ],
      "text/plain": [
       "<pandas.io.formats.style.Styler at 0x21986a3a9e0>"
      ]
     },
     "metadata": {},
     "output_type": "display_data"
    },
    {
     "name": "stdout",
     "output_type": "stream",
     "text": [
      "\n",
      "\n",
      "\n",
      " 4 . For each person who used the laundry in 2021, display the comment in the form of \"Mr Kowalski Jan, number of complaints in May - 8\". \n",
      "\n",
      "Query executed.\n"
     ]
    },
    {
     "data": {
      "text/html": [
       "<style type=\"text/css\">\n",
       "</style>\n",
       "<table id=\"T_0b23a\">\n",
       "  <thead>\n",
       "    <tr>\n",
       "      <th id=\"T_0b23a_level0_col0\" class=\"col_heading level0 col0\" >INFORMATION</th>\n",
       "    </tr>\n",
       "  </thead>\n",
       "  <tbody>\n",
       "    <tr>\n",
       "      <td id=\"T_0b23a_row0_col0\" class=\"data row0 col0\" >Mr Kowalski Jan, number of complaints in August - 1</td>\n",
       "    </tr>\n",
       "    <tr>\n",
       "      <td id=\"T_0b23a_row1_col0\" class=\"data row1 col0\" >Mrs Tracz Alicja, number of complaints in September - 2</td>\n",
       "    </tr>\n",
       "    <tr>\n",
       "      <td id=\"T_0b23a_row2_col0\" class=\"data row2 col0\" >Mr Kot Jakub, number of complaints in September - 2</td>\n",
       "    </tr>\n",
       "    <tr>\n",
       "      <td id=\"T_0b23a_row3_col0\" class=\"data row3 col0\" >Mr Kowalski Jan, number of complaints in September - 2</td>\n",
       "    </tr>\n",
       "  </tbody>\n",
       "</table>\n"
      ],
      "text/plain": [
       "<pandas.io.formats.style.Styler at 0x21987523eb0>"
      ]
     },
     "metadata": {},
     "output_type": "display_data"
    },
    {
     "name": "stdout",
     "output_type": "stream",
     "text": [
      "\n",
      "\n",
      "\n",
      " 5 . Display a list of visits, the customer's name and surname, the date of the complaint and the category of the complaint, and even display washes for which no complaint was filed. \n",
      "\n",
      "Query executed.\n"
     ]
    },
    {
     "data": {
      "text/html": [
       "<style type=\"text/css\">\n",
       "</style>\n",
       "<table id=\"T_6f119\">\n",
       "  <thead>\n",
       "    <tr>\n",
       "      <th id=\"T_6f119_level0_col0\" class=\"col_heading level0 col0\" >Visit ID</th>\n",
       "      <th id=\"T_6f119_level0_col1\" class=\"col_heading level0 col1\" >Wash ID</th>\n",
       "      <th id=\"T_6f119_level0_col2\" class=\"col_heading level0 col2\" >Surname</th>\n",
       "      <th id=\"T_6f119_level0_col3\" class=\"col_heading level0 col3\" >Name</th>\n",
       "      <th id=\"T_6f119_level0_col4\" class=\"col_heading level0 col4\" >Submission date</th>\n",
       "      <th id=\"T_6f119_level0_col5\" class=\"col_heading level0 col5\" >Category</th>\n",
       "    </tr>\n",
       "  </thead>\n",
       "  <tbody>\n",
       "    <tr>\n",
       "      <td id=\"T_6f119_row0_col0\" class=\"data row0 col0\" >1</td>\n",
       "      <td id=\"T_6f119_row0_col1\" class=\"data row0 col1\" >2</td>\n",
       "      <td id=\"T_6f119_row0_col2\" class=\"data row0 col2\" >Kowalski</td>\n",
       "      <td id=\"T_6f119_row0_col3\" class=\"data row0 col3\" >Jan</td>\n",
       "      <td id=\"T_6f119_row0_col4\" class=\"data row0 col4\" >NaT</td>\n",
       "      <td id=\"T_6f119_row0_col5\" class=\"data row0 col5\" >None</td>\n",
       "    </tr>\n",
       "    <tr>\n",
       "      <td id=\"T_6f119_row1_col0\" class=\"data row1 col0\" >1</td>\n",
       "      <td id=\"T_6f119_row1_col1\" class=\"data row1 col1\" >4</td>\n",
       "      <td id=\"T_6f119_row1_col2\" class=\"data row1 col2\" >Kowalski</td>\n",
       "      <td id=\"T_6f119_row1_col3\" class=\"data row1 col3\" >Jan</td>\n",
       "      <td id=\"T_6f119_row1_col4\" class=\"data row1 col4\" >2021-08-15 00:00:00</td>\n",
       "      <td id=\"T_6f119_row1_col5\" class=\"data row1 col5\" >price</td>\n",
       "    </tr>\n",
       "    <tr>\n",
       "      <td id=\"T_6f119_row2_col0\" class=\"data row2 col0\" >1</td>\n",
       "      <td id=\"T_6f119_row2_col1\" class=\"data row2 col1\" >3</td>\n",
       "      <td id=\"T_6f119_row2_col2\" class=\"data row2 col2\" >Kowalski</td>\n",
       "      <td id=\"T_6f119_row2_col3\" class=\"data row2 col3\" >Jan</td>\n",
       "      <td id=\"T_6f119_row2_col4\" class=\"data row2 col4\" >NaT</td>\n",
       "      <td id=\"T_6f119_row2_col5\" class=\"data row2 col5\" >None</td>\n",
       "    </tr>\n",
       "    <tr>\n",
       "      <td id=\"T_6f119_row3_col0\" class=\"data row3 col0\" >2</td>\n",
       "      <td id=\"T_6f119_row3_col1\" class=\"data row3 col1\" >5</td>\n",
       "      <td id=\"T_6f119_row3_col2\" class=\"data row3 col2\" >Kowalski</td>\n",
       "      <td id=\"T_6f119_row3_col3\" class=\"data row3 col3\" >Jan</td>\n",
       "      <td id=\"T_6f119_row3_col4\" class=\"data row3 col4\" >NaT</td>\n",
       "      <td id=\"T_6f119_row3_col5\" class=\"data row3 col5\" >None</td>\n",
       "    </tr>\n",
       "    <tr>\n",
       "      <td id=\"T_6f119_row4_col0\" class=\"data row4 col0\" >3</td>\n",
       "      <td id=\"T_6f119_row4_col1\" class=\"data row4 col1\" >7</td>\n",
       "      <td id=\"T_6f119_row4_col2\" class=\"data row4 col2\" >Kowalski</td>\n",
       "      <td id=\"T_6f119_row4_col3\" class=\"data row4 col3\" >Jan</td>\n",
       "      <td id=\"T_6f119_row4_col4\" class=\"data row4 col4\" >NaT</td>\n",
       "      <td id=\"T_6f119_row4_col5\" class=\"data row4 col5\" >None</td>\n",
       "    </tr>\n",
       "    <tr>\n",
       "      <td id=\"T_6f119_row5_col0\" class=\"data row5 col0\" >3</td>\n",
       "      <td id=\"T_6f119_row5_col1\" class=\"data row5 col1\" >6</td>\n",
       "      <td id=\"T_6f119_row5_col2\" class=\"data row5 col2\" >Kowalski</td>\n",
       "      <td id=\"T_6f119_row5_col3\" class=\"data row5 col3\" >Jan</td>\n",
       "      <td id=\"T_6f119_row5_col4\" class=\"data row5 col4\" >NaT</td>\n",
       "      <td id=\"T_6f119_row5_col5\" class=\"data row5 col5\" >None</td>\n",
       "    </tr>\n",
       "    <tr>\n",
       "      <td id=\"T_6f119_row6_col0\" class=\"data row6 col0\" >4</td>\n",
       "      <td id=\"T_6f119_row6_col1\" class=\"data row6 col1\" >9</td>\n",
       "      <td id=\"T_6f119_row6_col2\" class=\"data row6 col2\" >Kot</td>\n",
       "      <td id=\"T_6f119_row6_col3\" class=\"data row6 col3\" >Jakub</td>\n",
       "      <td id=\"T_6f119_row6_col4\" class=\"data row6 col4\" >NaT</td>\n",
       "      <td id=\"T_6f119_row6_col5\" class=\"data row6 col5\" >None</td>\n",
       "    </tr>\n",
       "    <tr>\n",
       "      <td id=\"T_6f119_row7_col0\" class=\"data row7 col0\" >4</td>\n",
       "      <td id=\"T_6f119_row7_col1\" class=\"data row7 col1\" >8</td>\n",
       "      <td id=\"T_6f119_row7_col2\" class=\"data row7 col2\" >Kot</td>\n",
       "      <td id=\"T_6f119_row7_col3\" class=\"data row7 col3\" >Jakub</td>\n",
       "      <td id=\"T_6f119_row7_col4\" class=\"data row7 col4\" >NaT</td>\n",
       "      <td id=\"T_6f119_row7_col5\" class=\"data row7 col5\" >None</td>\n",
       "    </tr>\n",
       "    <tr>\n",
       "      <td id=\"T_6f119_row8_col0\" class=\"data row8 col0\" >5</td>\n",
       "      <td id=\"T_6f119_row8_col1\" class=\"data row8 col1\" >12</td>\n",
       "      <td id=\"T_6f119_row8_col2\" class=\"data row8 col2\" >Tracz</td>\n",
       "      <td id=\"T_6f119_row8_col3\" class=\"data row8 col3\" >Alicja</td>\n",
       "      <td id=\"T_6f119_row8_col4\" class=\"data row8 col4\" >NaT</td>\n",
       "      <td id=\"T_6f119_row8_col5\" class=\"data row8 col5\" >None</td>\n",
       "    </tr>\n",
       "    <tr>\n",
       "      <td id=\"T_6f119_row9_col0\" class=\"data row9 col0\" >5</td>\n",
       "      <td id=\"T_6f119_row9_col1\" class=\"data row9 col1\" >11</td>\n",
       "      <td id=\"T_6f119_row9_col2\" class=\"data row9 col2\" >Tracz</td>\n",
       "      <td id=\"T_6f119_row9_col3\" class=\"data row9 col3\" >Alicja</td>\n",
       "      <td id=\"T_6f119_row9_col4\" class=\"data row9 col4\" >2021-09-04 00:00:00</td>\n",
       "      <td id=\"T_6f119_row9_col5\" class=\"data row9 col5\" >additions</td>\n",
       "    </tr>\n",
       "    <tr>\n",
       "      <td id=\"T_6f119_row10_col0\" class=\"data row10 col0\" >5</td>\n",
       "      <td id=\"T_6f119_row10_col1\" class=\"data row10 col1\" >10</td>\n",
       "      <td id=\"T_6f119_row10_col2\" class=\"data row10 col2\" >Tracz</td>\n",
       "      <td id=\"T_6f119_row10_col3\" class=\"data row10 col3\" >Alicja</td>\n",
       "      <td id=\"T_6f119_row10_col4\" class=\"data row10 col4\" >2021-09-04 00:00:00</td>\n",
       "      <td id=\"T_6f119_row10_col5\" class=\"data row10 col5\" >additions</td>\n",
       "    </tr>\n",
       "    <tr>\n",
       "      <td id=\"T_6f119_row11_col0\" class=\"data row11 col0\" >6</td>\n",
       "      <td id=\"T_6f119_row11_col1\" class=\"data row11 col1\" >13</td>\n",
       "      <td id=\"T_6f119_row11_col2\" class=\"data row11 col2\" >Kowalski</td>\n",
       "      <td id=\"T_6f119_row11_col3\" class=\"data row11 col3\" >Jan</td>\n",
       "      <td id=\"T_6f119_row11_col4\" class=\"data row11 col4\" >2021-09-07 00:00:00</td>\n",
       "      <td id=\"T_6f119_row11_col5\" class=\"data row11 col5\" >failure</td>\n",
       "    </tr>\n",
       "    <tr>\n",
       "      <td id=\"T_6f119_row12_col0\" class=\"data row12 col0\" >6</td>\n",
       "      <td id=\"T_6f119_row12_col1\" class=\"data row12 col1\" >13</td>\n",
       "      <td id=\"T_6f119_row12_col2\" class=\"data row12 col2\" >Kowalski</td>\n",
       "      <td id=\"T_6f119_row12_col3\" class=\"data row12 col3\" >Jan</td>\n",
       "      <td id=\"T_6f119_row12_col4\" class=\"data row12 col4\" >2021-09-07 00:00:00</td>\n",
       "      <td id=\"T_6f119_row12_col5\" class=\"data row12 col5\" >price</td>\n",
       "    </tr>\n",
       "    <tr>\n",
       "      <td id=\"T_6f119_row13_col0\" class=\"data row13 col0\" >6</td>\n",
       "      <td id=\"T_6f119_row13_col1\" class=\"data row13 col1\" >14</td>\n",
       "      <td id=\"T_6f119_row13_col2\" class=\"data row13 col2\" >Kowalski</td>\n",
       "      <td id=\"T_6f119_row13_col3\" class=\"data row13 col3\" >Jan</td>\n",
       "      <td id=\"T_6f119_row13_col4\" class=\"data row13 col4\" >NaT</td>\n",
       "      <td id=\"T_6f119_row13_col5\" class=\"data row13 col5\" >None</td>\n",
       "    </tr>\n",
       "    <tr>\n",
       "      <td id=\"T_6f119_row14_col0\" class=\"data row14 col0\" >7</td>\n",
       "      <td id=\"T_6f119_row14_col1\" class=\"data row14 col1\" >16</td>\n",
       "      <td id=\"T_6f119_row14_col2\" class=\"data row14 col2\" >Kot</td>\n",
       "      <td id=\"T_6f119_row14_col3\" class=\"data row14 col3\" >Jakub</td>\n",
       "      <td id=\"T_6f119_row14_col4\" class=\"data row14 col4\" >2021-09-08 00:00:00</td>\n",
       "      <td id=\"T_6f119_row14_col5\" class=\"data row14 col5\" >service</td>\n",
       "    </tr>\n",
       "    <tr>\n",
       "      <td id=\"T_6f119_row15_col0\" class=\"data row15 col0\" >7</td>\n",
       "      <td id=\"T_6f119_row15_col1\" class=\"data row15 col1\" >16</td>\n",
       "      <td id=\"T_6f119_row15_col2\" class=\"data row15 col2\" >Kot</td>\n",
       "      <td id=\"T_6f119_row15_col3\" class=\"data row15 col3\" >Jakub</td>\n",
       "      <td id=\"T_6f119_row15_col4\" class=\"data row15 col4\" >2021-09-08 00:00:00</td>\n",
       "      <td id=\"T_6f119_row15_col5\" class=\"data row15 col5\" >equipment</td>\n",
       "    </tr>\n",
       "    <tr>\n",
       "      <td id=\"T_6f119_row16_col0\" class=\"data row16 col0\" >7</td>\n",
       "      <td id=\"T_6f119_row16_col1\" class=\"data row16 col1\" >15</td>\n",
       "      <td id=\"T_6f119_row16_col2\" class=\"data row16 col2\" >Kot</td>\n",
       "      <td id=\"T_6f119_row16_col3\" class=\"data row16 col3\" >Jakub</td>\n",
       "      <td id=\"T_6f119_row16_col4\" class=\"data row16 col4\" >NaT</td>\n",
       "      <td id=\"T_6f119_row16_col5\" class=\"data row16 col5\" >None</td>\n",
       "    </tr>\n",
       "    <tr>\n",
       "      <td id=\"T_6f119_row17_col0\" class=\"data row17 col0\" >8</td>\n",
       "      <td id=\"T_6f119_row17_col1\" class=\"data row17 col1\" >17</td>\n",
       "      <td id=\"T_6f119_row17_col2\" class=\"data row17 col2\" >Sosnowski</td>\n",
       "      <td id=\"T_6f119_row17_col3\" class=\"data row17 col3\" >Wojciech</td>\n",
       "      <td id=\"T_6f119_row17_col4\" class=\"data row17 col4\" >NaT</td>\n",
       "      <td id=\"T_6f119_row17_col5\" class=\"data row17 col5\" >None</td>\n",
       "    </tr>\n",
       "    <tr>\n",
       "      <td id=\"T_6f119_row18_col0\" class=\"data row18 col0\" >9</td>\n",
       "      <td id=\"T_6f119_row18_col1\" class=\"data row18 col1\" >18</td>\n",
       "      <td id=\"T_6f119_row18_col2\" class=\"data row18 col2\" >Kowalski</td>\n",
       "      <td id=\"T_6f119_row18_col3\" class=\"data row18 col3\" >Jan</td>\n",
       "      <td id=\"T_6f119_row18_col4\" class=\"data row18 col4\" >NaT</td>\n",
       "      <td id=\"T_6f119_row18_col5\" class=\"data row18 col5\" >None</td>\n",
       "    </tr>\n",
       "    <tr>\n",
       "      <td id=\"T_6f119_row19_col0\" class=\"data row19 col0\" >9</td>\n",
       "      <td id=\"T_6f119_row19_col1\" class=\"data row19 col1\" >19</td>\n",
       "      <td id=\"T_6f119_row19_col2\" class=\"data row19 col2\" >Kowalski</td>\n",
       "      <td id=\"T_6f119_row19_col3\" class=\"data row19 col3\" >Jan</td>\n",
       "      <td id=\"T_6f119_row19_col4\" class=\"data row19 col4\" >NaT</td>\n",
       "      <td id=\"T_6f119_row19_col5\" class=\"data row19 col5\" >None</td>\n",
       "    </tr>\n",
       "    <tr>\n",
       "      <td id=\"T_6f119_row20_col0\" class=\"data row20 col0\" >9</td>\n",
       "      <td id=\"T_6f119_row20_col1\" class=\"data row20 col1\" >20</td>\n",
       "      <td id=\"T_6f119_row20_col2\" class=\"data row20 col2\" >Kowalski</td>\n",
       "      <td id=\"T_6f119_row20_col3\" class=\"data row20 col3\" >Jan</td>\n",
       "      <td id=\"T_6f119_row20_col4\" class=\"data row20 col4\" >NaT</td>\n",
       "      <td id=\"T_6f119_row20_col5\" class=\"data row20 col5\" >None</td>\n",
       "    </tr>\n",
       "    <tr>\n",
       "      <td id=\"T_6f119_row21_col0\" class=\"data row21 col0\" >9</td>\n",
       "      <td id=\"T_6f119_row21_col1\" class=\"data row21 col1\" >21</td>\n",
       "      <td id=\"T_6f119_row21_col2\" class=\"data row21 col2\" >Kowalski</td>\n",
       "      <td id=\"T_6f119_row21_col3\" class=\"data row21 col3\" >Jan</td>\n",
       "      <td id=\"T_6f119_row21_col4\" class=\"data row21 col4\" >NaT</td>\n",
       "      <td id=\"T_6f119_row21_col5\" class=\"data row21 col5\" >None</td>\n",
       "    </tr>\n",
       "  </tbody>\n",
       "</table>\n"
      ],
      "text/plain": [
       "<pandas.io.formats.style.Styler at 0x21986c6cf70>"
      ]
     },
     "metadata": {},
     "output_type": "display_data"
    },
    {
     "name": "stdout",
     "output_type": "stream",
     "text": [
      "\n",
      "\n",
      "\n",
      " 6 . Display the most frequently used washing machine. \n",
      "\n",
      "Query executed.\n"
     ]
    },
    {
     "data": {
      "text/html": [
       "<style type=\"text/css\">\n",
       "</style>\n",
       "<table id=\"T_ef99e\">\n",
       "  <thead>\n",
       "    <tr>\n",
       "      <th id=\"T_ef99e_level0_col0\" class=\"col_heading level0 col0\" >MACHINE_NO</th>\n",
       "      <th id=\"T_ef99e_level0_col1\" class=\"col_heading level0 col1\" >COUNT(W.WASH_ID)</th>\n",
       "    </tr>\n",
       "  </thead>\n",
       "  <tbody>\n",
       "    <tr>\n",
       "      <td id=\"T_ef99e_row0_col0\" class=\"data row0 col0\" >5</td>\n",
       "      <td id=\"T_ef99e_row0_col1\" class=\"data row0 col1\" >5</td>\n",
       "    </tr>\n",
       "  </tbody>\n",
       "</table>\n"
      ],
      "text/plain": [
       "<pandas.io.formats.style.Styler at 0x219873b64d0>"
      ]
     },
     "metadata": {},
     "output_type": "display_data"
    },
    {
     "name": "stdout",
     "output_type": "stream",
     "text": [
      "A view created.\n",
      "Query executed.\n"
     ]
    },
    {
     "data": {
      "text/html": [
       "<style type=\"text/css\">\n",
       "</style>\n",
       "<table id=\"T_5c0dc\">\n",
       "  <thead>\n",
       "    <tr>\n",
       "      <th id=\"T_5c0dc_level0_col0\" class=\"col_heading level0 col0\" >MACHINE_NO</th>\n",
       "      <th id=\"T_5c0dc_level0_col1\" class=\"col_heading level0 col1\" >WASH_NO</th>\n",
       "    </tr>\n",
       "  </thead>\n",
       "  <tbody>\n",
       "    <tr>\n",
       "      <td id=\"T_5c0dc_row0_col0\" class=\"data row0 col0\" >1</td>\n",
       "      <td id=\"T_5c0dc_row0_col1\" class=\"data row0 col1\" >3</td>\n",
       "    </tr>\n",
       "    <tr>\n",
       "      <td id=\"T_5c0dc_row1_col0\" class=\"data row1 col0\" >2</td>\n",
       "      <td id=\"T_5c0dc_row1_col1\" class=\"data row1 col1\" >3</td>\n",
       "    </tr>\n",
       "    <tr>\n",
       "      <td id=\"T_5c0dc_row2_col0\" class=\"data row2 col0\" >3</td>\n",
       "      <td id=\"T_5c0dc_row2_col1\" class=\"data row2 col1\" >4</td>\n",
       "    </tr>\n",
       "    <tr>\n",
       "      <td id=\"T_5c0dc_row3_col0\" class=\"data row3 col0\" >4</td>\n",
       "      <td id=\"T_5c0dc_row3_col1\" class=\"data row3 col1\" >2</td>\n",
       "    </tr>\n",
       "    <tr>\n",
       "      <td id=\"T_5c0dc_row4_col0\" class=\"data row4 col0\" >5</td>\n",
       "      <td id=\"T_5c0dc_row4_col1\" class=\"data row4 col1\" >5</td>\n",
       "    </tr>\n",
       "    <tr>\n",
       "      <td id=\"T_5c0dc_row5_col0\" class=\"data row5 col0\" >6</td>\n",
       "      <td id=\"T_5c0dc_row5_col1\" class=\"data row5 col1\" >3</td>\n",
       "    </tr>\n",
       "  </tbody>\n",
       "</table>\n"
      ],
      "text/plain": [
       "<pandas.io.formats.style.Styler at 0x219873b6950>"
      ]
     },
     "metadata": {},
     "output_type": "display_data"
    },
    {
     "name": "stdout",
     "output_type": "stream",
     "text": [
      "Query executed.\n"
     ]
    },
    {
     "data": {
      "text/html": [
       "<style type=\"text/css\">\n",
       "</style>\n",
       "<table id=\"T_021e2\">\n",
       "  <thead>\n",
       "    <tr>\n",
       "      <th id=\"T_021e2_level0_col0\" class=\"col_heading level0 col0\" >MACHINE_NO</th>\n",
       "      <th id=\"T_021e2_level0_col1\" class=\"col_heading level0 col1\" >WASH_NO</th>\n",
       "    </tr>\n",
       "  </thead>\n",
       "  <tbody>\n",
       "    <tr>\n",
       "      <td id=\"T_021e2_row0_col0\" class=\"data row0 col0\" >5</td>\n",
       "      <td id=\"T_021e2_row0_col1\" class=\"data row0 col1\" >5</td>\n",
       "    </tr>\n",
       "  </tbody>\n",
       "</table>\n"
      ],
      "text/plain": [
       "<pandas.io.formats.style.Styler at 0x219873b6950>"
      ]
     },
     "metadata": {},
     "output_type": "display_data"
    },
    {
     "name": "stdout",
     "output_type": "stream",
     "text": [
      "\n",
      "\n",
      "\n",
      " 7 . Calculate the bills paid by individual customers, indicate the number of washes done and the average fee for one wash. Display how many free drying services have been performed and how much would the additional profit be if this service cost a symbolic fee of 5.5. \n",
      "\n",
      "A view created.\n",
      "Query executed.\n"
     ]
    },
    {
     "data": {
      "text/html": [
       "<style type=\"text/css\">\n",
       "</style>\n",
       "<table id=\"T_c77a0\">\n",
       "  <thead>\n",
       "    <tr>\n",
       "      <th id=\"T_c77a0_level0_col0\" class=\"col_heading level0 col0\" >Name and surname</th>\n",
       "      <th id=\"T_c77a0_level0_col1\" class=\"col_heading level0 col1\" >Bills paid</th>\n",
       "      <th id=\"T_c77a0_level0_col2\" class=\"col_heading level0 col2\" >Number of washes done</th>\n",
       "      <th id=\"T_c77a0_level0_col3\" class=\"col_heading level0 col3\" >Average fee per wash</th>\n",
       "      <th id=\"T_c77a0_level0_col4\" class=\"col_heading level0 col4\" >Number of free dryings done</th>\n",
       "      <th id=\"T_c77a0_level0_col5\" class=\"col_heading level0 col5\" >Potential additional profit</th>\n",
       "    </tr>\n",
       "  </thead>\n",
       "  <tbody>\n",
       "    <tr>\n",
       "      <td id=\"T_c77a0_row0_col0\" class=\"data row0 col0\" >Jan Kowalski</td>\n",
       "      <td id=\"T_c77a0_row0_col1\" class=\"data row0 col1\" >301.100000</td>\n",
       "      <td id=\"T_c77a0_row0_col2\" class=\"data row0 col2\" >12</td>\n",
       "      <td id=\"T_c77a0_row0_col3\" class=\"data row0 col3\" >25.090000</td>\n",
       "      <td id=\"T_c77a0_row0_col4\" class=\"data row0 col4\" >6</td>\n",
       "      <td id=\"T_c77a0_row0_col5\" class=\"data row0 col5\" >33.000000</td>\n",
       "    </tr>\n",
       "    <tr>\n",
       "      <td id=\"T_c77a0_row1_col0\" class=\"data row1 col0\" >Jakub Kot</td>\n",
       "      <td id=\"T_c77a0_row1_col1\" class=\"data row1 col1\" >72.900000</td>\n",
       "      <td id=\"T_c77a0_row1_col2\" class=\"data row1 col2\" >4</td>\n",
       "      <td id=\"T_c77a0_row1_col3\" class=\"data row1 col3\" >18.230000</td>\n",
       "      <td id=\"T_c77a0_row1_col4\" class=\"data row1 col4\" >3</td>\n",
       "      <td id=\"T_c77a0_row1_col5\" class=\"data row1 col5\" >16.500000</td>\n",
       "    </tr>\n",
       "    <tr>\n",
       "      <td id=\"T_c77a0_row2_col0\" class=\"data row2 col0\" >Alicja Tracz</td>\n",
       "      <td id=\"T_c77a0_row2_col1\" class=\"data row2 col1\" >65.900000</td>\n",
       "      <td id=\"T_c77a0_row2_col2\" class=\"data row2 col2\" >3</td>\n",
       "      <td id=\"T_c77a0_row2_col3\" class=\"data row2 col3\" >21.970000</td>\n",
       "      <td id=\"T_c77a0_row2_col4\" class=\"data row2 col4\" >1</td>\n",
       "      <td id=\"T_c77a0_row2_col5\" class=\"data row2 col5\" >5.500000</td>\n",
       "    </tr>\n",
       "    <tr>\n",
       "      <td id=\"T_c77a0_row3_col0\" class=\"data row3 col0\" >Wojciech Sosnowski</td>\n",
       "      <td id=\"T_c77a0_row3_col1\" class=\"data row3 col1\" >14.900000</td>\n",
       "      <td id=\"T_c77a0_row3_col2\" class=\"data row3 col2\" >1</td>\n",
       "      <td id=\"T_c77a0_row3_col3\" class=\"data row3 col3\" >14.900000</td>\n",
       "      <td id=\"T_c77a0_row3_col4\" class=\"data row3 col4\" >0</td>\n",
       "      <td id=\"T_c77a0_row3_col5\" class=\"data row3 col5\" >0.000000</td>\n",
       "    </tr>\n",
       "  </tbody>\n",
       "</table>\n"
      ],
      "text/plain": [
       "<pandas.io.formats.style.Styler at 0x219873b5870>"
      ]
     },
     "metadata": {},
     "output_type": "display_data"
    },
    {
     "name": "stdout",
     "output_type": "stream",
     "text": [
      "Query executed.\n"
     ]
    },
    {
     "data": {
      "text/html": [
       "<style type=\"text/css\">\n",
       "</style>\n",
       "<table id=\"T_033eb\">\n",
       "  <thead>\n",
       "    <tr>\n",
       "      <th id=\"T_033eb_level0_col0\" class=\"col_heading level0 col0\" >Total profit</th>\n",
       "      <th id=\"T_033eb_level0_col1\" class=\"col_heading level0 col1\" >Total potential additional profit</th>\n",
       "      <th id=\"T_033eb_level0_col2\" class=\"col_heading level0 col2\" >Total potential profit</th>\n",
       "    </tr>\n",
       "  </thead>\n",
       "  <tbody>\n",
       "    <tr>\n",
       "      <td id=\"T_033eb_row0_col0\" class=\"data row0 col0\" >454.800000</td>\n",
       "      <td id=\"T_033eb_row0_col1\" class=\"data row0 col1\" >55</td>\n",
       "      <td id=\"T_033eb_row0_col2\" class=\"data row0 col2\" >509.800000</td>\n",
       "    </tr>\n",
       "  </tbody>\n",
       "</table>\n"
      ],
      "text/plain": [
       "<pandas.io.formats.style.Styler at 0x219873b5870>"
      ]
     },
     "metadata": {},
     "output_type": "display_data"
    },
    {
     "name": "stdout",
     "output_type": "stream",
     "text": [
      "\n",
      "\n",
      "\n",
      " 8 . Check, if the level of satisfaction is higher when using free additions. \n",
      "\n",
      "Query executed.\n"
     ]
    },
    {
     "data": {
      "text/html": [
       "<style type=\"text/css\">\n",
       "</style>\n",
       "<table id=\"T_76310\">\n",
       "  <thead>\n",
       "    <tr>\n",
       "      <th id=\"T_76310_level0_col0\" class=\"col_heading level0 col0\" >Rating</th>\n",
       "      <th id=\"T_76310_level0_col1\" class=\"col_heading level0 col1\" >Number of additional powder bags</th>\n",
       "      <th id=\"T_76310_level0_col2\" class=\"col_heading level0 col2\" >Number of free dryings</th>\n",
       "    </tr>\n",
       "  </thead>\n",
       "  <tbody>\n",
       "    <tr>\n",
       "      <td id=\"T_76310_row0_col0\" class=\"data row0 col0\" >very good</td>\n",
       "      <td id=\"T_76310_row0_col1\" class=\"data row0 col1\" >6</td>\n",
       "      <td id=\"T_76310_row0_col2\" class=\"data row0 col2\" >5</td>\n",
       "    </tr>\n",
       "    <tr>\n",
       "      <td id=\"T_76310_row1_col0\" class=\"data row1 col0\" >good</td>\n",
       "      <td id=\"T_76310_row1_col1\" class=\"data row1 col1\" >4</td>\n",
       "      <td id=\"T_76310_row1_col2\" class=\"data row1 col2\" >4</td>\n",
       "    </tr>\n",
       "    <tr>\n",
       "      <td id=\"T_76310_row2_col0\" class=\"data row2 col0\" >average</td>\n",
       "      <td id=\"T_76310_row2_col1\" class=\"data row2 col1\" >1</td>\n",
       "      <td id=\"T_76310_row2_col2\" class=\"data row2 col2\" >0</td>\n",
       "    </tr>\n",
       "    <tr>\n",
       "      <td id=\"T_76310_row3_col0\" class=\"data row3 col0\" >bad</td>\n",
       "      <td id=\"T_76310_row3_col1\" class=\"data row3 col1\" >0</td>\n",
       "      <td id=\"T_76310_row3_col2\" class=\"data row3 col2\" >1</td>\n",
       "    </tr>\n",
       "  </tbody>\n",
       "</table>\n"
      ],
      "text/plain": [
       "<pandas.io.formats.style.Styler at 0x219873b64d0>"
      ]
     },
     "metadata": {},
     "output_type": "display_data"
    },
    {
     "name": "stdout",
     "output_type": "stream",
     "text": [
      "Query executed.\n"
     ]
    },
    {
     "data": {
      "text/html": [
       "<style type=\"text/css\">\n",
       "</style>\n",
       "<table id=\"T_3ad54\">\n",
       "  <thead>\n",
       "    <tr>\n",
       "      <th id=\"T_3ad54_level0_col0\" class=\"col_heading level0 col0\" >Rating</th>\n",
       "      <th id=\"T_3ad54_level0_col1\" class=\"col_heading level0 col1\" >Free additions used</th>\n",
       "    </tr>\n",
       "  </thead>\n",
       "  <tbody>\n",
       "    <tr>\n",
       "      <td id=\"T_3ad54_row0_col0\" class=\"data row0 col0\" >very good</td>\n",
       "      <td id=\"T_3ad54_row0_col1\" class=\"data row0 col1\" >11</td>\n",
       "    </tr>\n",
       "    <tr>\n",
       "      <td id=\"T_3ad54_row1_col0\" class=\"data row1 col0\" >good</td>\n",
       "      <td id=\"T_3ad54_row1_col1\" class=\"data row1 col1\" >8</td>\n",
       "    </tr>\n",
       "    <tr>\n",
       "      <td id=\"T_3ad54_row2_col0\" class=\"data row2 col0\" >bad</td>\n",
       "      <td id=\"T_3ad54_row2_col1\" class=\"data row2 col1\" >1</td>\n",
       "    </tr>\n",
       "    <tr>\n",
       "      <td id=\"T_3ad54_row3_col0\" class=\"data row3 col0\" >average</td>\n",
       "      <td id=\"T_3ad54_row3_col1\" class=\"data row3 col1\" >1</td>\n",
       "    </tr>\n",
       "  </tbody>\n",
       "</table>\n"
      ],
      "text/plain": [
       "<pandas.io.formats.style.Styler at 0x219873b64d0>"
      ]
     },
     "metadata": {},
     "output_type": "display_data"
    },
    {
     "name": "stdout",
     "output_type": "stream",
     "text": [
      "\n",
      "\n",
      "\n",
      " 9 . Display how many days after the visits complaints were received. \n",
      "\n",
      "Query executed.\n"
     ]
    },
    {
     "data": {
      "text/html": [
       "<style type=\"text/css\">\n",
       "</style>\n",
       "<table id=\"T_f033a\">\n",
       "  <thead>\n",
       "    <tr>\n",
       "      <th id=\"T_f033a_level0_col0\" class=\"col_heading level0 col0\" >DATE_TIME</th>\n",
       "      <th id=\"T_f033a_level0_col1\" class=\"col_heading level0 col1\" >SUBMISSION_DATE</th>\n",
       "      <th id=\"T_f033a_level0_col2\" class=\"col_heading level0 col2\" >Days difference</th>\n",
       "    </tr>\n",
       "  </thead>\n",
       "  <tbody>\n",
       "    <tr>\n",
       "      <td id=\"T_f033a_row0_col0\" class=\"data row0 col0\" >2021-08-10 14:10:10</td>\n",
       "      <td id=\"T_f033a_row0_col1\" class=\"data row0 col1\" >2021-08-15 00:00:00</td>\n",
       "      <td id=\"T_f033a_row0_col2\" class=\"data row0 col2\" >5</td>\n",
       "    </tr>\n",
       "    <tr>\n",
       "      <td id=\"T_f033a_row1_col0\" class=\"data row1 col0\" >2021-09-03 16:40:10</td>\n",
       "      <td id=\"T_f033a_row1_col1\" class=\"data row1 col1\" >2021-09-04 00:00:00</td>\n",
       "      <td id=\"T_f033a_row1_col2\" class=\"data row1 col2\" >1</td>\n",
       "    </tr>\n",
       "    <tr>\n",
       "      <td id=\"T_f033a_row2_col0\" class=\"data row2 col0\" >2021-09-03 16:40:10</td>\n",
       "      <td id=\"T_f033a_row2_col1\" class=\"data row2 col1\" >2021-09-04 00:00:00</td>\n",
       "      <td id=\"T_f033a_row2_col2\" class=\"data row2 col2\" >1</td>\n",
       "    </tr>\n",
       "    <tr>\n",
       "      <td id=\"T_f033a_row3_col0\" class=\"data row3 col0\" >2021-09-05 09:32:00</td>\n",
       "      <td id=\"T_f033a_row3_col1\" class=\"data row3 col1\" >2021-09-07 00:00:00</td>\n",
       "      <td id=\"T_f033a_row3_col2\" class=\"data row3 col2\" >2</td>\n",
       "    </tr>\n",
       "    <tr>\n",
       "      <td id=\"T_f033a_row4_col0\" class=\"data row4 col0\" >2021-09-05 09:32:00</td>\n",
       "      <td id=\"T_f033a_row4_col1\" class=\"data row4 col1\" >2021-09-07 00:00:00</td>\n",
       "      <td id=\"T_f033a_row4_col2\" class=\"data row4 col2\" >2</td>\n",
       "    </tr>\n",
       "    <tr>\n",
       "      <td id=\"T_f033a_row5_col0\" class=\"data row5 col0\" >2021-09-05 10:46:08</td>\n",
       "      <td id=\"T_f033a_row5_col1\" class=\"data row5 col1\" >2021-09-08 00:00:00</td>\n",
       "      <td id=\"T_f033a_row5_col2\" class=\"data row5 col2\" >3</td>\n",
       "    </tr>\n",
       "    <tr>\n",
       "      <td id=\"T_f033a_row6_col0\" class=\"data row6 col0\" >2021-09-05 10:46:08</td>\n",
       "      <td id=\"T_f033a_row6_col1\" class=\"data row6 col1\" >2021-09-08 00:00:00</td>\n",
       "      <td id=\"T_f033a_row6_col2\" class=\"data row6 col2\" >3</td>\n",
       "    </tr>\n",
       "  </tbody>\n",
       "</table>\n"
      ],
      "text/plain": [
       "<pandas.io.formats.style.Styler at 0x21986c6e8c0>"
      ]
     },
     "metadata": {},
     "output_type": "display_data"
    },
    {
     "name": "stdout",
     "output_type": "stream",
     "text": [
      "\n",
      "\n"
     ]
    }
   ],
   "source": [
    "for i in range(0, len(queries2)):\n",
    "    \n",
    "    # display the task description and enumerate\n",
    "    print(\"\\n\",i+1,\".\", queries2[i][0], \"\\n\")\n",
    "    \n",
    "    # execute the queries\n",
    "    for q in queries2[i][1:]:\n",
    "        \n",
    "        # SELECT statements and displaying the result (with column names and no index)\n",
    "        if re.match(\"^SELECT\", q):\n",
    "            print(\"Query executed.\")\n",
    "            ex = cursor.execute(q)\n",
    "            results = cursor.fetchall()\n",
    "            display(pd.DataFrame(results, columns=[cursor.description[i][0] for i in range(len(cursor.description))]).style.hide())\n",
    "        \n",
    "        # CREATE OR REPLACE VIEW statements\n",
    "        else:\n",
    "            print(\"A view created.\")\n",
    "            ex = cursor.execute(q)\n",
    "    print(\"\\n\")"
   ]
  },
  {
   "cell_type": "code",
   "execution_count": 438,
   "id": "382ba66b",
   "metadata": {},
   "outputs": [],
   "source": [
    "# disabling the cursor and closing the connection\n",
    "\n",
    "cursor.close()\n",
    "conn.close()"
   ]
  },
  {
   "cell_type": "code",
   "execution_count": null,
   "id": "81cc77fc",
   "metadata": {},
   "outputs": [],
   "source": []
  }
 ],
 "metadata": {
  "kernelspec": {
   "display_name": "Python 3 (ipykernel)",
   "language": "python",
   "name": "python3"
  },
  "language_info": {
   "codemirror_mode": {
    "name": "ipython",
    "version": 3
   },
   "file_extension": ".py",
   "mimetype": "text/x-python",
   "name": "python",
   "nbconvert_exporter": "python",
   "pygments_lexer": "ipython3",
   "version": "3.10.9"
  }
 },
 "nbformat": 4,
 "nbformat_minor": 5
}
